{
 "cells": [
  {
   "cell_type": "code",
   "execution_count": 7,
   "id": "46a31265",
   "metadata": {},
   "outputs": [
    {
     "name": "stdout",
     "output_type": "stream",
     "text": [
      "Diretório criado: 2019-03\n",
      "Gráfico salvo: 2019-03/Gráfico_MAR_2019.png\n",
      "Diretório criado: 2019-04\n",
      "Gráfico salvo: 2019-04/Gráfico_ABR_2019.png\n",
      "Diretório criado: 2019-05\n",
      "Gráfico salvo: 2019-05/Gráfico_MAI_2019.png\n",
      "Diretório criado: 2019-06\n",
      "Gráfico salvo: 2019-06/Gráfico_JUN_2019.png\n",
      "Diretório criado: 2019-07\n",
      "Gráfico salvo: 2019-07/Gráfico_JUL_2019.png\n"
     ]
    }
   ],
   "source": [
    "import os\n",
    "import pandas as pd\n",
    "import matplotlib.pyplot as plt\n",
    "\n",
    "# Mapeamento das abreviações dos meses para os números correspondentes\n",
    "meses_abrev_para_numero = {\n",
    "    'MAR': '03', 'ABR': '04', 'MAI': '05', 'JUN': '06', 'JUL': '07'\n",
    "}\n",
    "\n",
    "# Lista dos meses para os quais os diretórios e gráficos serão criados\n",
    "meses_abreviados = ['MAR', 'ABR', 'MAI', 'JUN', 'JUL']\n",
    "\n",
    "# Cria diretórios e gera gráficos para cada mês\n",
    "for mes_abrev in meses_abreviados:\n",
    "    # Define o ano e o número do mês a partir do mapeamento\n",
    "    ano = '2019'\n",
    "    mes_numero = meses_abrev_para_numero[mes_abrev]\n",
    "\n",
    "    # Cria o nome do diretório no formato 'YYYY-MM'\n",
    "    nome_diretorio = f\"{ano}-{mes_numero}\"\n",
    "\n",
    "    # Cria o diretório se não existir\n",
    "    if not os.path.exists(nome_diretorio):\n",
    "        os.makedirs(nome_diretorio)\n",
    "    print(f\"Diretório criado: {nome_diretorio}\")\n",
    "\n",
    "    # Aqui você colocaria o código para ler o arquivo CSV correspondente\n",
    "    # Por exemplo: df = pd.read_csv(f'{nome_diretorio}/SINASC_RO_{ano}_{mes_abrev}.csv')\n",
    "    # Substitua a linha abaixo pela geração do gráfico de acordo com os seus dados específicos\n",
    "    \n",
    "    # Geração do gráfico (aqui você precisa substituir por seus próprios dados e análise)\n",
    "    plt.figure()\n",
    "    plt.plot(range(10))  # Substitua esta linha pela sua própria análise e dados\n",
    "    plt.title(f\"Gráfico do Mês de {mes_abrev} de {ano}\")\n",
    "    plt.xlabel(\"Eixo X\")  # Substitua pelo rótulo apropriado\n",
    "    plt.ylabel(\"Eixo Y\")  # Substitua pelo rótulo apropriado\n",
    "\n",
    "    # Salva o gráfico no diretório correspondente\n",
    "    caminho_do_grafico = f\"{nome_diretorio}/Gráfico_{mes_abrev}_{ano}.png\"\n",
    "    plt.savefig(caminho_do_grafico)\n",
    "    plt.close()\n",
    "    print(f\"Gráfico salvo: {caminho_do_grafico}\")\n"
   ]
  }
 ],
 "metadata": {
  "kernelspec": {
   "display_name": "Python 3 (ipykernel)",
   "language": "python",
   "name": "python3"
  },
  "language_info": {
   "codemirror_mode": {
    "name": "ipython",
    "version": 3
   },
   "file_extension": ".py",
   "mimetype": "text/x-python",
   "name": "python",
   "nbconvert_exporter": "python",
   "pygments_lexer": "ipython3",
   "version": "3.11.5"
  }
 },
 "nbformat": 4,
 "nbformat_minor": 5
}
